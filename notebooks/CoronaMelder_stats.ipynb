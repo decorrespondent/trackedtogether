{
 "cells": [
  {
   "cell_type": "markdown",
   "metadata": {
    "toc": true
   },
   "source": [
    "<h1>Table of Contents<span class=\"tocSkip\"></span></h1>\n",
    "<div class=\"toc\"><ul class=\"toc-item\"><li><span><a href=\"#Wat-zijn-succesvolle-strategieen-om-positieve-mensen-op-te-sporen?\" data-toc-modified-id=\"Wat-zijn-succesvolle-strategieen-om-positieve-mensen-op-te-sporen?-1\"><span class=\"toc-item-num\">1&nbsp;&nbsp;</span>Wat zijn succesvolle strategieen om positieve mensen op te sporen?</a></span></li></ul></div>"
   ]
  },
  {
   "cell_type": "markdown",
   "metadata": {},
   "source": [
    "Deze notebook heeft tot doel om enkele datasets te combineren om meer te weten te komen over de effectiviteit van de CoronaMelder."
   ]
  },
  {
   "cell_type": "code",
   "execution_count": null,
   "metadata": {},
   "outputs": [],
   "source": [
    "import matplotlib.pyplot as plt\n",
    "import pandas as pd\n",
    "import datetime as dt\n",
    "import json\n",
    "import config"
   ]
  },
  {
   "cell_type": "markdown",
   "metadata": {},
   "source": [
    "## Wat zijn succesvolle strategieen om positieve mensen op te sporen? \n",
    "\n",
    "Doel: verschillende methoden vergelijken zoals:\n",
    "* Percentage positieven uitslagen algemeen\n",
    "* Percentage positieve uitslagen via BCO\n",
    "* Percentage positieve uitslagen via CoronaMelder (met en zonder klachten)\n",
    "* Eventueel prevalentie\n",
    "* Eventueel uitslagen BCO Huisgenoten en BCO nauwe contacten\n",
    "\n",
    "Er zijn verschillende datasets beschikbaar:\n",
    "1. [GGD App statistics](https://github.com/minvws/nl-covid19-notification-app-statistics)\n",
    "2. [COVID weekberichten van het RIVM](https://www.rivm.nl/coronavirus-covid-19/actueel/wekelijkse-update-epidemiologische-situatie-covid-19-in-nederland). In tabellen 10 en 12 zijn de resultaten van BCO uitgeplitst.\n",
    "3. [RIVM uitgevoerde testen](https://data.rivm.nl/geonetwork/srv/dut/catalog.search#/metadata/0f3336f5-0f16-462c-9031-bb60adde4af1)"
   ]
  },
  {
   "cell_type": "code",
   "execution_count": null,
   "metadata": {},
   "outputs": [],
   "source": [
    "PATH = config.PATH_RIVM"
   ]
  },
  {
   "cell_type": "code",
   "execution_count": null,
   "metadata": {},
   "outputs": [],
   "source": [
    "# Eerst de algmene testcijfers van het RIVM inladen.\n",
    "\n",
    "columns = ['Date_of_statistics', 'Security_region_name', 'Tested_with_result', 'Tested_positive']\n",
    "\n",
    "algemeen = pd.read_csv(PATH + 'COVID-19_uitgevoerde_testen.csv', \n",
    "                    sep=';', \n",
    "                    usecols=columns, \n",
    "                    parse_dates=['Date_of_statistics'])\n",
    "\n",
    "# Omzetten naar weeknummers\n",
    "\n",
    "algemeen['Week_number'] = algemeen['Date_of_statistics'].dt.isocalendar().week\n",
    "\n",
    "# Columns hernoemen\n",
    "\n",
    "algemeen = algemeen.rename(columns={'Tested_with_result': 'RIVM_tested_with_result',\n",
    "                                    'Tested_positive': 'RIVM_tested_positive'})\n",
    "\n",
    "# Agreggeren naar weeknummer\n",
    "\n",
    "algemeen = algemeen.groupby('Week_number').sum(['Tested_with_result', 'Tested_positive']).reset_index()\n",
    "\n",
    "algemeen.head()"
   ]
  },
  {
   "cell_type": "code",
   "execution_count": null,
   "metadata": {},
   "outputs": [],
   "source": [
    "# Vervolgens csv van de CoronaMelder inladen\n",
    "\n",
    "melder = pd.read_csv('data/nederland/coronamelder_positief.csv')\n",
    "melder = melder.rename(columns={'Week': 'Week_number'})\n",
    "melder.head()"
   ]
  },
  {
   "cell_type": "code",
   "execution_count": null,
   "metadata": {},
   "outputs": [],
   "source": [
    "# BCO csv inladen\n",
    "\n",
    "bco = pd.read_csv(PATH + 'rivm_bco.csv')\n",
    "\n",
    "bco.head()"
   ]
  },
  {
   "cell_type": "code",
   "execution_count": null,
   "metadata": {},
   "outputs": [],
   "source": [
    "contacten = pd.read_csv(PATH + 'rivm_contactonderzoek_nauwe_contacten.csv')\n",
    "\n",
    "contacten.head()"
   ]
  },
  {
   "cell_type": "code",
   "execution_count": null,
   "metadata": {},
   "outputs": [],
   "source": [
    "# Dataframes samenvoegen\n",
    "\n",
    "tests = melder.merge(algemeen, on='Week_number', how='left')\n",
    "\n",
    "# Converteer week en jaar naar datums (eerste dag van de week). Dit komt later beter van pas\n",
    "\n",
    "tests['start_week'] = pd.to_datetime(tests['Week_number'].astype(str) + ' 1' + ' ' + tests['Year'].astype(str) ,\n",
    "                                format='%U %w %Y').dt.strftime('%d-%m-%Y')\n",
    "tests.head()"
   ]
  },
  {
   "cell_type": "code",
   "execution_count": null,
   "metadata": {},
   "outputs": [],
   "source": [
    "df1 = tests.merge(bco, on='start_week', how='left')"
   ]
  },
  {
   "cell_type": "code",
   "execution_count": null,
   "metadata": {},
   "outputs": [],
   "source": [
    "df1.head()"
   ]
  },
  {
   "cell_type": "code",
   "execution_count": null,
   "metadata": {},
   "outputs": [],
   "source": [
    "df = df1.merge(contacten, on='start_week', how='left')"
   ]
  },
  {
   "cell_type": "code",
   "execution_count": null,
   "metadata": {},
   "outputs": [],
   "source": [
    "df.columns"
   ]
  },
  {
   "cell_type": "code",
   "execution_count": null,
   "metadata": {},
   "outputs": [],
   "source": [
    "df = df.rename(columns={'Test Requests': 'CM_testaanvragen',\n",
    "                        'Total Test Results': 'CM_aantal_testresultaten',\n",
    "                        'Total Positive': 'CM_positieve_testen',\n",
    "                        'Total %Positive': 'CM_percentage_positieve testen',\n",
    "                        'Asymptomatic Test Results': 'CM_asymp_testresultaten',\n",
    "                        'Asymptomatic Positive': 'CM_asymp_positieve_testen',\n",
    "                        'Asymptomatic %Positive': 'CM_asymp_percentage_positieve_testen',\n",
    "                        'Symptomatic Test Results': 'CM_symp_testresultaten',\n",
    "                        'Symptomatic Positive': 'CM_symp_positieve_testen',\n",
    "                        'Symptomatic %Positive': 'CM_symp_percentage_positieve_testen',\n",
    "                        'RIVM_tested_with_result': 'RIVM_testresultaten',\n",
    "                        'RIVM_tested_positive': 'RIVM_positieve_testen',\n",
    "                        'start_week': 'datum',\n",
    "                        'nieuwe_meldingen': 'RIVM_nieuwe_meldingen',\n",
    "                        'gevonden_via_bco': 'RIVM_gevonden_via_bco',\n",
    "                        'gevonden_via_bco_%': 'RIVM_percentage_gevonden_via_bco',\n",
    "                        'aantal': 'RIVM_nauwe_contacten_opgevolgd',\n",
    "                        'huisgenoten_positief': 'RIVM_huisgenoten_positief',\n",
    "                        'huisgenoten_positief_%': 'RIVM_percentage_huisgenoten_positief',\n",
    "                        'overigen_nauwe_contacten_aantal': 'RIVM_andere_nauwe_contacten',\n",
    "                        'overige_nauwe_contacten_aantal_positief': 'RIVM_andere_nauwe_contacten_positief',\n",
    "                        'overige_nauwe_contacten_aantal_positief_%': 'RIVM_percentage_andere_nauwe_contacten_positief'})\n",
    "\n",
    "df = df[['datum',\n",
    "         'RIVM_testresultaten',\n",
    "         'RIVM_positieve_testen',\n",
    "         'RIVM_nieuwe_meldingen',\n",
    "         'RIVM_gevonden_via_bco',\n",
    "         'RIVM_percentage_gevonden_via_bco',\n",
    "         'RIVM_nauwe_contacten_opgevolgd',\n",
    "         'RIVM_huisgenoten_positief',\n",
    "         'RIVM_percentage_huisgenoten_positief',\n",
    "         'RIVM_andere_nauwe_contacten',\n",
    "         'RIVM_andere_nauwe_contacten_positief',\n",
    "         'RIVM_percentage_andere_nauwe_contacten_positief',\n",
    "         'CM_testaanvragen',\n",
    "         'CM_aantal_testresultaten',\n",
    "        'CM_positieve_testen',\n",
    "        'CM_percentage_positieve testen',\n",
    "        'CM_asymp_testresultaten',\n",
    "        'CM_asymp_positieve_testen',\n",
    "        'CM_asymp_percentage_positieve_testen',\n",
    "        'CM_symp_testresultaten',\n",
    "        'CM_symp_positieve_testen',\n",
    "        'CM_symp_percentage_positieve_testen']]\n",
    "               \n",
    "    "
   ]
  },
  {
   "cell_type": "code",
   "execution_count": null,
   "metadata": {},
   "outputs": [],
   "source": [
    "df.columns"
   ]
  },
  {
   "cell_type": "code",
   "execution_count": null,
   "metadata": {},
   "outputs": [],
   "source": [
    "df['CM_percentage_positieve testen'] = df['CM_percentage_positieve testen'].str.replace('%', '').astype(float)\n",
    "df['CM_asymp_percentage_positieve_testen'] = df['CM_asymp_percentage_positieve_testen'].str.replace('%', '').astype(float)\n",
    "df['CM_symp_percentage_positieve_testen'] = df['CM_symp_percentage_positieve_testen'].str.replace('%', '').astype(float)"
   ]
  },
  {
   "cell_type": "code",
   "execution_count": null,
   "metadata": {},
   "outputs": [],
   "source": [
    "df.plot(x='datum', y=['RIVM_percentage_gevonden_via_bco',\n",
    "                    'RIVM_percentage_huisgenoten_positief',\n",
    "                    'RIVM_percentage_andere_nauwe_contacten_positief',\n",
    "                    'CM_percentage_positieve testen',\n",
    "                    'CM_asymp_percentage_positieve_testen',\n",
    "                    'CM_symp_percentage_positieve_testen'], figsize=(20,10),)\n",
    "\n",
    "plt.grid(True)"
   ]
  },
  {
   "cell_type": "code",
   "execution_count": null,
   "metadata": {},
   "outputs": [],
   "source": [
    "# Enkele nieuwe kolommen berekenen\n",
    "\n",
    "df['Tested_postive_after_warning'] = df['Total Positive'] / df['Tested_with_result'] * 100\n",
    "df['Tested_positive_all'] = df['Tested_positive'] / df['Tested_with_result'] *100\n",
    "df['Tested_positive_without_symptoms'] = df['Asymptomatic Positive'] / df['Tested_with_result'] * 100\n",
    "df['Tested_positive_without_symptoms_as_perc_of_positives '] = df['Asymptomatic Positive'] / df['Tested_positive'] * 100\n",
    "df['Tested_positive_with_symptoms'] = df['Symptomatic Positive'] / df['Tested_with_result'] * 100\n",
    "df['Tested_positive_with_symptoms_as_perc_of_positives'] =  df['Symptomatic Positive'] / df['Tested_positive'] *100"
   ]
  }
 ],
 "metadata": {
  "kernelspec": {
   "display_name": "Python 3",
   "language": "python",
   "name": "python3"
  },
  "language_info": {
   "codemirror_mode": {
    "name": "ipython",
    "version": 3
   },
   "file_extension": ".py",
   "mimetype": "text/x-python",
   "name": "python",
   "nbconvert_exporter": "python",
   "pygments_lexer": "ipython3",
   "version": "3.8.5"
  },
  "toc": {
   "base_numbering": 1,
   "nav_menu": {},
   "number_sections": true,
   "sideBar": true,
   "skip_h1_title": true,
   "title_cell": "Table of Contents",
   "title_sidebar": "Contents",
   "toc_cell": true,
   "toc_position": {},
   "toc_section_display": true,
   "toc_window_display": false
  }
 },
 "nbformat": 4,
 "nbformat_minor": 2
}
