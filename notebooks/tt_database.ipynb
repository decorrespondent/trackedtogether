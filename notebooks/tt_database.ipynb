{
 "cells": [
  {
   "cell_type": "markdown",
   "metadata": {},
   "source": [
    "# Databases of measures\n",
    "\n",
    "This Notebook contains code to parse covid-19 measures from four different sources:\n",
    "\n",
    "1. [Tracked Together](https://thecorrespondent.com/collection/track-ed-together). A database of covid-19 surveillance measures compiled by De Correspondent.\n",
    "2. [CoronaNet](https://www.coronanet-project.org/download.html): (Cheng et al, 2020)\n",
    "3. [CCCSL](https://github.com/amel-github/covid19-interventionmeasures): (Desvars-Larrive et al, 2020)\n",
    "4. [Oxford Covid Policy Tracker](https://github.com/OxCGRT/covid-policy-tracker): (Hale et al, 2021)"
   ]
  },
  {
   "cell_type": "code",
   "execution_count": 1,
   "metadata": {},
   "outputs": [],
   "source": [
    "import json\n",
    "import pandas as pd\n",
    "import numpy as np\n",
    "import config"
   ]
  },
  {
   "cell_type": "code",
   "execution_count": 2,
   "metadata": {},
   "outputs": [],
   "source": [
    "PATH = config.PATH_TRACKERS"
   ]
  },
  {
   "cell_type": "markdown",
   "metadata": {},
   "source": [
    "## Tracked Together - De Correspondent\n",
    "\n",
    "There are three data dumps: tools (measures), methods (technologies used) and purposes (of the measures).\n",
    "\n",
    "We don't need all fields yet. These will do for now:\n",
    "* title - string\n",
    "* status - string\n",
    "* launch_date - date\n",
    "* involved_organizations - list\n",
    "* purposes - list\n",
    "* methods - list\n",
    "* location"
   ]
  },
  {
   "cell_type": "code",
   "execution_count": 3,
   "metadata": {},
   "outputs": [],
   "source": [
    "# Import data\n",
    "\n",
    "tools = pd.read_json(PATH + 'tools.json')\n",
    "#methods = pd.read_json('data/methods.json')\n",
    "#purposes = pd.read_json('data/purposes.json')"
   ]
  },
  {
   "cell_type": "code",
   "execution_count": 4,
   "metadata": {},
   "outputs": [],
   "source": [
    "# Clean data\n",
    "# TODO: Make more pythonic\n",
    "\n",
    "tools['purpose'] = [[x['title'] for x in list_dict] for list_dict in tools['purposes']]\n",
    "tools['purpose_id'] = [[x['_id'] for x in list_dict] for list_dict in tools['methods']]\n",
    "tools['method'] = [[x['title'] for x in list_dict] for list_dict in tools['methods']]\n",
    "tools['method_id'] = [[x['_id'] for x in list_dict] for list_dict in tools['methods']]\n",
    "tools['method'] = tools['method'].apply(', '.join)\n",
    "tools['method'] = tools['method'].apply(lambda x: ', '.join(sorted(x.split(', '))))\n",
    "tools['purpose'] = tools['purpose'].apply(', '.join)\n",
    "tools['purspose'] = tools['purpose'].apply(lambda x: ', '.join(sorted(x.split(', '))))\n",
    "tools['country'] = [x.get('country') for x in tools['location']]\n",
    "tools['country_code'] = [[x['iso_code'] for x in list_dict] for list_dict in tools['country']]\n",
    "tools['country_code'] = tools['country_code'].apply(', '.join)\n",
    "tools['organizations'] = [[x['name'] for x in list_dict] for list_dict in tools['involved_organisations']]\n",
    "tools['organizations'] = tools['organizations'].apply(', '.join)\n",
    "tools['organizations'] = tools['organizations'].apply(lambda x: ', '.join(sorted(x.split(', '))))"
   ]
  },
  {
   "cell_type": "code",
   "execution_count": 5,
   "metadata": {},
   "outputs": [],
   "source": [
    "# Extract date and add to new column\n",
    "\n",
    "new_column = []\n",
    "\n",
    "for i in tools.launch_date:\n",
    "    if i is None:\n",
    "        d = np.nan\n",
    "        new_column.append(d)\n",
    "    else:\n",
    "        d = i.get('date')\n",
    "        new_column.append(d)\n",
    "    \n",
    "\n",
    "tools['date'] = new_column"
   ]
  },
  {
   "cell_type": "code",
   "execution_count": 6,
   "metadata": {},
   "outputs": [],
   "source": [
    "# Trim columns\n",
    "\n",
    "tools = tools[['id', 'title', 'status', 'date', 'purpose', 'method', 'country_code', \n",
    "               'description', 'organizations', 'target', 'link', 'enforcement_details', 'revision',\n",
    "               'involved_organisations', 'purposes', 'methods', 'location', 'launch_date']]"
   ]
  },
  {
   "cell_type": "code",
   "execution_count": null,
   "metadata": {},
   "outputs": [],
   "source": [
    "purpose = 'Contact tracing'\n",
    "\n",
    "ct = tools[tools['purpose'].apply(lambda x: purpose in x)]\n",
    "#ct = ct[ct['status'] == 'launched']\n",
    "ct.country_code.value_counts()"
   ]
  },
  {
   "cell_type": "code",
   "execution_count": 8,
   "metadata": {},
   "outputs": [
    {
     "data": {
      "text/plain": [
       "650"
      ]
     },
     "execution_count": 8,
     "metadata": {},
     "output_type": "execute_result"
    }
   ],
   "source": [
    "len(tools)"
   ]
  },
  {
   "cell_type": "code",
   "execution_count": 17,
   "metadata": {},
   "outputs": [
    {
     "data": {
      "text/plain": [
       "Series([], Name: country_code, dtype: int64)"
      ]
     },
     "execution_count": 17,
     "metadata": {},
     "output_type": "execute_result"
    }
   ],
   "source": [
    "method = 'Hand washing'\n",
    "\n",
    "f = tools[tools['method'].apply(lambda x: method in x)]\n",
    "\n",
    "f.country_code.value_counts()"
   ]
  },
  {
   "cell_type": "code",
   "execution_count": 7,
   "metadata": {},
   "outputs": [],
   "source": [
    "tools.to_csv(PATH + 'tools.csv', index=None)"
   ]
  },
  {
   "cell_type": "markdown",
   "metadata": {},
   "source": [
    "## CoronaNet\n",
    "\n",
    "Different datasets available:\n",
    "1. [Country files](https://github.com/saudiwin/corona_tscs/tree/master/data/CoronaNet/data_country/coronanet_release?)\n",
    "2. [Extended data set](https://github.com/saudiwin/corona_tscs/blob/master/data/CoronaNet/data_bulk/coronanet_release_allvars.csv.gz). This dataset contains ests from the [CoronaNet testing database](http://coronanet-project.org);\n",
    "Cases/deaths/recovered from the JHU [data repository](https://github.com/CSSEGISandData/COVID-19);\n",
    "Country-level covariates including GDP, V-DEM democracy scores, human rights indices, power-sharing indices, and press freedom indices from the [Niehaus World Economics and Politics Dataverse](https://niehaus.princeton.edu/news/world-economics-and-politics-dataverse) \n",
    "3. [Core dataset](https://github.com/saudiwin/corona_tscs/blob/master/data/CoronaNet/data_bulk/coronanet_release.csv.gz)"
   ]
  },
  {
   "cell_type": "code",
   "execution_count": 4,
   "metadata": {},
   "outputs": [
    {
     "data": {
      "text/plain": [
       "63683"
      ]
     },
     "execution_count": 4,
     "metadata": {},
     "output_type": "execute_result"
    }
   ],
   "source": [
    "cn = pd.read_csv(PATH + 'coronanet_release.csv')\n",
    "len(cn)"
   ]
  },
  {
   "cell_type": "code",
   "execution_count": 5,
   "metadata": {},
   "outputs": [
    {
     "data": {
      "text/plain": [
       "Index(['record_id', 'policy_id', 'entry_type', 'correct_type', 'update_type',\n",
       "       'update_level', 'description', 'date_announced', 'date_start',\n",
       "       'date_end', 'country', 'ISO_A3', 'ISO_A2', 'init_country_level',\n",
       "       'domestic_policy', 'province', 'ISO_L2', 'city', 'type', 'type_sub_cat',\n",
       "       'type_text', 'institution_status', 'target_country',\n",
       "       'target_geog_level', 'target_region', 'target_province', 'target_city',\n",
       "       'target_other', 'target_who_what', 'target_direction',\n",
       "       'travel_mechanism', 'compliance', 'enforcer', 'dist_index_high_est',\n",
       "       'dist_index_med_est', 'dist_index_low_est', 'dist_index_country_rank',\n",
       "       'link', 'date_updated', 'recorded_date'],\n",
       "      dtype='object')"
      ]
     },
     "execution_count": 5,
     "metadata": {},
     "output_type": "execute_result"
    }
   ],
   "source": [
    "cn.columns"
   ]
  },
  {
   "cell_type": "code",
   "execution_count": 8,
   "metadata": {},
   "outputs": [],
   "source": [
    "q = 'temperature sc'\n",
    "\n",
    "df_cn = cn[cn['description'].str.contains(q, case=False, na=False)]"
   ]
  },
  {
   "cell_type": "code",
   "execution_count": 11,
   "metadata": {},
   "outputs": [],
   "source": [
    "df_cn.to_csv(PATH + 'temperature_screening.csv', index=None)"
   ]
  },
  {
   "cell_type": "markdown",
   "metadata": {},
   "source": [
    "## CCCSL\n",
    "\n",
    "There is a glossary of codes [here](https://github.com/amel-github/covid19-interventionmeasures/blob/master/CCCSL_Glossary%20of%20codes.docx)"
   ]
  },
  {
   "cell_type": "code",
   "execution_count": null,
   "metadata": {},
   "outputs": [],
   "source": [
    "cc = pd.read_csv(PATH + 'CCCSL_database_version2.csv', encoding='cp1252')"
   ]
  },
  {
   "cell_type": "code",
   "execution_count": null,
   "metadata": {},
   "outputs": [],
   "source": [
    "cc.head()"
   ]
  },
  {
   "cell_type": "code",
   "execution_count": null,
   "metadata": {},
   "outputs": [],
   "source": [
    "q = 'temperature'\n",
    "df = cc[cc['Measure_L1'].str.contains(q, case=False, na=False) | \\\n",
    "       cc['Measure_L2'].str.contains(q, case=False, na=False) | \\\n",
    "       cc['Measure_L3'].str.contains(q, case=False, na=False) | \\\n",
    "       cc['Measure_L4'].str.contains(q, case=False, na=False) | \\\n",
    "       cc['Comment'].str.contains(q, case=False, na=False)]\n",
    "df.head()"
   ]
  },
  {
   "cell_type": "code",
   "execution_count": null,
   "metadata": {},
   "outputs": [],
   "source": []
  },
  {
   "cell_type": "markdown",
   "metadata": {},
   "source": [
    "## Oxford\n",
    "\n",
    "Codebook can be found [here](https://github.com/OxCGRT/covid-policy-tracker/blob/master/documentation/codebook.md). "
   ]
  },
  {
   "cell_type": "code",
   "execution_count": null,
   "metadata": {},
   "outputs": [],
   "source": [
    "ox = pd.read_csv(PATH + 'OxCGRT_latest_withnotes.csv', low_memory=False)\n",
    "ox.head()"
   ]
  },
  {
   "cell_type": "code",
   "execution_count": null,
   "metadata": {},
   "outputs": [],
   "source": [
    "# Create dicts from code book\n",
    "\n",
    "c1 = {0.0: 'no measures',\n",
    "      1.0: 'recommend closing or all schools open with alterations resulting in significant differences compared to non-Covid-19 operations',\n",
    "      2.0: 'require closing (only some levels or categories, eg just high school, or just public schools)',\n",
    "      3.0: 'require closing all levels'\n",
    "     }\n",
    "\n",
    "c_flag = {0.0: 'targeted',\n",
    "           1.0: 'general'\n",
    "          }\n",
    "\n",
    "c2 = {0.0: 'no measures',\n",
    "      1.0: 'recommend closing (or recommend work from home)',\n",
    "      2.0: 'require cancelling',\n",
    "      3.0: 'require closing (or work from home) for all-but-essential workplaces (eg grocery stores, doctors)'\n",
    "     }\n",
    "\n",
    "c3 = {0.0: 'no measures',\n",
    "      1.0: 'recommend cancelling',\n",
    "      2.0: 'require cancelling'\n",
    "    }\n",
    "\n",
    "c4 = {0.0: 'no restrictions',\n",
    "      1.0: 'restrictions on very large gatherings (the limit is above 1000 people)',\n",
    "      2.0: 'restrictions on gatherings between 101-1000 people',\n",
    "      3.0: 'restrictions on gatherings between 11-100 people',\n",
    "      4.0: 'restrictions on gatherings of 10 people or less'\n",
    "     }\n",
    "\n",
    "c5 = {0.0: 'no measures',\n",
    "      1.0: 'recommend closing (or significantly reduce volume/route/means of transport available)',\n",
    "      2.0: 'require closing (or prohibit most citizens from using it)'\n",
    "    }\n",
    "\n",
    "c6 = {0.0: 'no measures',\n",
    "      1.0: 'recommend not leaving house',\n",
    "      2.0: 'require not leaving house with exceptions for daily exercise, grocery shopping, and \"essential\" trips',\n",
    "      3.0: 'require not leaving house with minimal exceptions (eg allowed to leave once a week, or only one person can leave at a time, etc)'\n",
    "     }\n",
    "\n",
    "c7 = {0.0: 'no measures',\n",
    "      1.0: 'recommend not to travel between regions/cities',\n",
    "      2.0: 'internal movement restrictions in place'\n",
    "    }\n",
    "\n",
    "c8 = {0.0: 'no restrictions',\n",
    "      1.0: 'screening arrivals',\n",
    "      2.0: 'quarantine arrivals from some or all regions',\n",
    "      3.0: 'ban arrivals from some regions',\n",
    "      4.0: 'ban on all regions or total border closure'\n",
    "     }\n",
    "\n",
    "e1 = {0.0: 'no income support',\n",
    "      1.0: 'government is replacing less than 50% of lost salary (or if a flat sum, it is less than 50% median salary)',\n",
    "      2.0: 'government is replacing 50% or more of lost salary (or if a flat sum, it is greater than 50% median salary)'\n",
    "    }\n",
    "\n",
    "e_flag = {0.0: 'formal sector workers only or informal sector workers only',\n",
    "          1.0: 'all workers'\n",
    "    }\n",
    "\n",
    "e2 = {0.0: 'no debt/contract relief',\n",
    "      1.0: 'narrow relief, specific to one kind of contract',\n",
    "      2.0: 'broad debt/contract relief'\n",
    "    }\n",
    "\n",
    "e3 = {0.0: 'no new spending that day'}\n",
    "\n",
    "e4 = {0.0: 'no new spending that day'}\n",
    "\n",
    "h_flag  = {0.0: 'targeted',\n",
    "           1.0: 'general'\n",
    "          }\n",
    "\n",
    "h1 = {0.0: 'no Covid-19 public information campaign',\n",
    "      1.0: 'public officials urging caution about Covid-19',\n",
    "      2.0: 'coordinated public information campaign (eg across traditional and social media)'\n",
    "    }\n",
    "\n",
    "h2 = {0.0: 'no testing policy',\n",
    "      1.0: 'only those who both (a) have symptoms AND (b) meet specific criteria (eg key workers, admitted to hospital, came into contact with a known case, returned from overseas)',\n",
    "      2.0: 'testing of anyone showing Covid-19 symptoms',\n",
    "      3.0: 'open public testing (eg \"drive through\" testing available to asymptomatic people)'\n",
    "     }\n",
    "\n",
    "h3 = {0.0: 'no contact tracing',\n",
    "      1.0: 'limited contact tracing; not done for all cases',\n",
    "      2.0: 'comprehensive contact tracing; done for all identified cases'\n",
    "    }\n",
    "\n",
    "h4 = {0.0: 'no new spending that day'}\n",
    "\n",
    "h5 = {0.0: 'no new spending that day'}\n",
    "\n",
    "h6 = {0.0: 'No policy',\n",
    "      1.0: 'Recommended',\n",
    "      2.0: 'Required in some specified shared/public spaces outside the home with other people present, or some situations when social distancing not possible',\n",
    "      3.0: 'Required in all shared/public spaces outside the home with other people present or all situations when social distancing not possible',\n",
    "      4.0: 'Required outside the home at all times regardless of location or presence of other people'\n",
    "     }\n",
    "\n",
    "h7 = {0.0: 'No availability',\n",
    "      1.0: 'Availability for ONE of following: key workers/ clinically vulnerable groups (non elderly) / elderly groups',\n",
    "      2.0: 'Availability for TWO of following: key workers/ clinically vulnerable groups (non elderly) / elderly groups',\n",
    "      3.0: 'Availability for ALL of following: key workers/ clinically vulnerable groups (non elderly) / elderly groups',\n",
    "      4.0: 'Availability for all three plus partial additional availability (select broad groups/ages)',\n",
    "      5.0: 'Universal availability'\n",
    "     }\n",
    "\n",
    "h7_flag = {0.0: 'At cost to individual (or funded by NGO, insurance, or partially government funded)',\n",
    "      1.0: 'No or minimal cost to individual (government funded or subsidised)'\n",
    "    }\n",
    "\n",
    "h8 = {0.0: 'no measures',\n",
    "      1.0: 'Recommended isolation, hygiene, and visitor restriction measures in LTCFs and/or elderly people to stay at home',\n",
    "      2.0: 'Narrow restrictions for isolation, hygiene in LTCFs, some limitations on external visitors and/or restrictions protecting elderly people at home',\n",
    "      3.0: 'Extensive restrictions for isolation and hygiene in LTCFs, all non-essential external visitors prohibited, and/or all elderly people required to stay at home and not leave the home with minimal exceptions, and receive no external visitors'\n",
    "    }"
   ]
  },
  {
   "cell_type": "code",
   "execution_count": null,
   "metadata": {},
   "outputs": [],
   "source": [
    "# Replace code book values with strings. This could also be done later in te process.\n",
    "\n",
    "ox['C1_School closing'] = ox['C1_School closing'].replace(c1)\n",
    "ox['C1_Flag'] = ox['C1_Flag'].replace(c_flag)\n",
    "ox['C2_Workplace closing'] = ox['C2_Workplace closing'].replace(c2)\n",
    "ox['C2_Flag'] = ox['C2_Flag'].replace(c_flag)\n",
    "ox['C3_Cancel public events'] = ox['C3_Cancel public events'].replace(c3)\n",
    "ox['C3_Flag'] = ox['C3_Flag'].replace(c_flag)\n",
    "ox['C4_Restrictions on gatherings'] = ox['C4_Restrictions on gatherings'].replace(c4)\n",
    "ox['C4_Flag'] = ox['C4_Flag'].replace(c_flag)\n",
    "ox['C5_Close public transport'] = ox['C5_Close public transport'].replace(c5)\n",
    "ox['C5_Flag'] = ox['C5_Flag'].replace(c_flag)\n",
    "ox['C6_Stay at home requirements'] = ox['C6_Stay at home requirements'].replace(c6)\n",
    "ox['C6_Flag'] = ox['C6_Flag'].replace(c_flag)\n",
    "ox['C7_Restrictions on internal movement'] = ox['C7_Restrictions on internal movement'].replace(c7)\n",
    "ox['C7_Flag'] = ox['C7_Flag'].replace(c_flag)\n",
    "ox['C8_International travel controls'] = ox['C8_International travel controls'].replace(c8)\n",
    "ox['E1_Income support'] = ox['E1_Income support'].replace(e1)\n",
    "ox['E1_Flag'] = ox['E1_Flag'].replace(e_flag)\n",
    "ox['E2_Debt/contract relief'] = ox['E2_Debt/contract relief'].replace(e2)\n",
    "ox['E3_Fiscal measures'] = ox['E3_Fiscal measures'].replace(e3)\n",
    "ox['E4_International support'] = ox['E4_International support'].replace(e4)\n",
    "ox['H1_Public information campaigns'] = ox['H1_Public information campaigns'].replace(h1)\n",
    "ox['H1_Flag'] = ox['H1_Flag'].replace(h_flag)\n",
    "ox['H2_Testing policy'] = ox['H2_Testing policy'].replace(h2)\n",
    "ox['H3_Contact tracing'] = ox['H3_Contact tracing'].replace(h3)\n",
    "ox['H4_Emergency investment in healthcare'] = ox['H4_Emergency investment in healthcare'].replace(h4)\n",
    "ox['H5_Investment in vaccines'] = ox['H5_Investment in vaccines'].replace(h5)\n",
    "ox['H6_Facial Coverings'] = ox['H6_Facial Coverings'].replace(h6)\n",
    "ox['H6_Flag'] = ox['H6_Flag'].replace(h_flag)\n",
    "ox['H7_Vaccination policy'] = ox['H7_Vaccination policy'].replace(h7)\n",
    "ox['H7_Flag'] = ox['H7_Flag'].replace(h7_flag)\n",
    "ox['H8_Protection of elderly people'] = ox['H8_Protection of elderly people'].replace(h8)\n",
    "ox['H8_Flag'] = ox['H8_Flag'].replace(h_flag)"
   ]
  },
  {
   "cell_type": "code",
   "execution_count": null,
   "metadata": {},
   "outputs": [],
   "source": [
    "def filter_df(query, df):\n",
    "    \n",
    "    \"\"\"Searches in list of columns and\n",
    "    returns a filtered df\"\"\"\n",
    "    \n",
    "    cols = [col for col in df.columns if 'Notes' in col]\n",
    "    mask = np.column_stack([df[col].str.contains(query, na=False, case=False) for col in cols])\n",
    "    df = df.loc[mask.any(axis=1)]\n",
    "    \n",
    "    return df"
   ]
  },
  {
   "cell_type": "code",
   "execution_count": null,
   "metadata": {},
   "outputs": [],
   "source": [
    "filter_df('artificial', ox)"
   ]
  },
  {
   "cell_type": "code",
   "execution_count": null,
   "metadata": {},
   "outputs": [],
   "source": [
    "len(ox)"
   ]
  },
  {
   "cell_type": "code",
   "execution_count": null,
   "metadata": {},
   "outputs": [],
   "source": []
  }
 ],
 "metadata": {
  "kernelspec": {
   "display_name": "tt",
   "language": "python",
   "name": "tt"
  },
  "language_info": {
   "codemirror_mode": {
    "name": "ipython",
    "version": 3
   },
   "file_extension": ".py",
   "mimetype": "text/x-python",
   "name": "python",
   "nbconvert_exporter": "python",
   "pygments_lexer": "ipython3",
   "version": "3.8.5"
  }
 },
 "nbformat": 4,
 "nbformat_minor": 2
}
