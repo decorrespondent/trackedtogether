{
 "cells": [
  {
   "cell_type": "markdown",
   "metadata": {},
   "source": [
    "# Find covid app permissions\n",
    "\n",
    "This script is part of the research into app permissions and data leakage of covid apps ([see this story](https://d1gi.medium.com/the-pandemic-app-ecosystem-investigating-493-covid-related-ios-apps-across-98-countries-cdca305b99da)). For access to the Google Play store we use the [play_scraper library](https://github.com/danieliu/play-scraper). "
   ]
  },
  {
   "cell_type": "code",
   "execution_count": null,
   "metadata": {},
   "outputs": [],
   "source": [
    "import play_scraper\n",
    "import ast\n",
    "from tqdm import tqdm\n",
    "import pandas as pd\n",
    "import config"
   ]
  },
  {
   "cell_type": "code",
   "execution_count": null,
   "metadata": {},
   "outputs": [],
   "source": [
    "PATH = config.PATH_APPS"
   ]
  },
  {
   "cell_type": "code",
   "execution_count": null,
   "metadata": {},
   "outputs": [],
   "source": [
    "# Import list with covid apps\n",
    "\n",
    "with open(PATH + 'list_apps.txt', 'r') as f:\n",
    "    addresses = ast.literal_eval(f.read())\n",
    "len(addresses)"
   ]
  },
  {
   "cell_type": "code",
   "execution_count": null,
   "metadata": {},
   "outputs": [],
   "source": [
    "# See what is in it\n",
    "\n",
    "for address in addresses:\n",
    "    print(address)"
   ]
  },
  {
   "cell_type": "code",
   "execution_count": null,
   "metadata": {},
   "outputs": [],
   "source": [
    "# Query Google Play Store\n",
    "\n",
    "permissions = []\n",
    "\n",
    "for address in tqdm(addresses):\n",
    "    try:\n",
    "        respons = play_scraper.details(address)\n",
    "        permissions.append(respons)\n",
    "    except:\n",
    "        continue   \n",
    "    "
   ]
  },
  {
   "cell_type": "code",
   "execution_count": null,
   "metadata": {},
   "outputs": [],
   "source": [
    "# Parse results\n",
    "\n",
    "covid_apps = []\n",
    "\n",
    "columns = ['name', 'category', 'description', 'installs', 'permissions',\n",
    "            'app_id', 'url', 'developer', 'developer_info', 'developer_id']\n",
    "\n",
    "for apps in permissions:\n",
    "    name = apps['title']\n",
    "    category = apps['category']\n",
    "    description = apps['description']\n",
    "    developer_id = apps['developer_id']\n",
    "    installs = apps['installs']\n",
    "    developer = apps['developer']\n",
    "    permission = apps['permissions']\n",
    "    developer_info = apps['developer_info']\n",
    "    app_id = apps['app_id']\n",
    "    url = apps['url']\n",
    "    \n",
    "    covid_apps.append({'name': name,\n",
    "                       'category': category,\n",
    "                       'description': description,\n",
    "                       'installs': installs,\n",
    "                       'permissions': permission,\n",
    "                       'app_id': app_id,\n",
    "                       'url': url,\n",
    "                       'developer': developer,\n",
    "                       'developer_id': developer_id,\n",
    "                       'developer_info': developer_info})\n",
    "\n",
    "apps = pd.DataFrame(covid_apps, columns=columns)"
   ]
  }
 ],
 "metadata": {
  "kernelspec": {
   "display_name": "corona",
   "language": "python",
   "name": "corona"
  },
  "language_info": {
   "codemirror_mode": {
    "name": "ipython",
    "version": 3
   },
   "file_extension": ".py",
   "mimetype": "text/x-python",
   "name": "python",
   "nbconvert_exporter": "python",
   "pygments_lexer": "ipython3",
   "version": "3.6.9"
  }
 },
 "nbformat": 4,
 "nbformat_minor": 2
}
