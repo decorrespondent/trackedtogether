{
 "cells": [
  {
   "cell_type": "markdown",
   "metadata": {},
   "source": [
    "# Lobby\n",
    "\n",
    "This notebook analyses the lobby infrastructure of Big Tech Companies. Data sources are:\n",
    "1. [Open Secrets](https://www.opensecrets.org/search?q=google&type=orgs) for the US.\n",
    "2. [Integrity Watch](https://integritywatch.eu/mepmeetings) from Transparency International."
   ]
  },
  {
   "cell_type": "code",
   "execution_count": 1,
   "metadata": {},
   "outputs": [],
   "source": [
    "import pandas as pd\n",
    "import config\n",
    "import requests\n",
    "import xml.etree.ElementTree as ET\n",
    "import json"
   ]
  },
  {
   "cell_type": "code",
   "execution_count": 6,
   "metadata": {},
   "outputs": [],
   "source": [
    "PATH = config.PATH_LOBBY\n",
    "API_KEY = config.OPENSECRETS_API"
   ]
  },
  {
   "cell_type": "code",
   "execution_count": 3,
   "metadata": {},
   "outputs": [],
   "source": [
    "company = 'AbbVie'"
   ]
  },
  {
   "cell_type": "code",
   "execution_count": 27,
   "metadata": {},
   "outputs": [],
   "source": [
    "url_org = 'https://www.opensecrets.org/api/?method=getOrgs&org=' + company + '&apikey=' + API_KEY\n",
    "url_summary = 'http://www.opensecrets.org/api/?method=orgSummary&id=' + org_id + '&apikey=' + API_KEY + '&output=json'"
   ]
  },
  {
   "cell_type": "code",
   "execution_count": 5,
   "metadata": {},
   "outputs": [],
   "source": [
    "r = requests.get(url_org)"
   ]
  },
  {
   "cell_type": "code",
   "execution_count": 10,
   "metadata": {},
   "outputs": [
    {
     "name": "stdout",
     "output_type": "stream",
     "text": [
      "<response><organization orgid=\"D000066804\" orgname=\"AbbVie Inc\" /></response>\n"
     ]
    }
   ],
   "source": [
    "print(r.text)"
   ]
  },
  {
   "cell_type": "code",
   "execution_count": 11,
   "metadata": {},
   "outputs": [],
   "source": []
  },
  {
   "cell_type": "code",
   "execution_count": 26,
   "metadata": {},
   "outputs": [
    {
     "name": "stdout",
     "output_type": "stream",
     "text": [
      "D000066804 AbbVie Inc\n"
     ]
    }
   ],
   "source": [
    "response = ET.fromstring(r.text)\n",
    "org_id = response.find('organization').attrib['orgid']\n",
    "org_name = response.find('organization').attrib['orgname']\n",
    "print(org_id, org_name)\n"
   ]
  },
  {
   "cell_type": "code",
   "execution_count": 32,
   "metadata": {},
   "outputs": [
    {
     "name": "stdout",
     "output_type": "stream",
     "text": [
      "{'response': {'organization': {'@attributes': {'cycle': '2020', 'orgid': 'D000066804', 'orgname': 'AbbVie Inc', 'total': '2112488', 'indivs': '996579', 'pacs': '1095000', 'soft': '20909', 'tot527': '0', 'dems': '1187386', 'repubs': '894126', 'lobbying': '9220000', 'outside': '0', 'mems_invested': '27', 'gave_to_pac': '21', 'gave_to_party': '289904', 'gave_to_527': '0', 'gave_to_cand': '1548410', 'source': 'www.opensecrets.org/orgs/summary.php?id=D000066804'}}}}\n"
     ]
    }
   ],
   "source": [
    "r = requests.get(url_summary)\n",
    "json_data = json.loads(r.text)\n",
    "print(json_data)"
   ]
  },
  {
   "cell_type": "code",
   "execution_count": null,
   "metadata": {},
   "outputs": [],
   "source": []
  },
  {
   "cell_type": "code",
   "execution_count": null,
   "metadata": {},
   "outputs": [],
   "source": []
  },
  {
   "cell_type": "code",
   "execution_count": 7,
   "metadata": {},
   "outputs": [
    {
     "data": {
      "text/html": [
       "<div>\n",
       "<style scoped>\n",
       "    .dataframe tbody tr th:only-of-type {\n",
       "        vertical-align: middle;\n",
       "    }\n",
       "\n",
       "    .dataframe tbody tr th {\n",
       "        vertical-align: top;\n",
       "    }\n",
       "\n",
       "    .dataframe thead th {\n",
       "        text-align: right;\n",
       "    }\n",
       "</style>\n",
       "<table border=\"1\" class=\"dataframe\">\n",
       "  <thead>\n",
       "    <tr style=\"text-align: right;\">\n",
       "      <th></th>\n",
       "      <th>n</th>\n",
       "      <th>Id</th>\n",
       "      <th>RegDate</th>\n",
       "      <th>Cat</th>\n",
       "      <th>Cat2</th>\n",
       "      <th>Name</th>\n",
       "      <th>Country</th>\n",
       "      <th>People</th>\n",
       "      <th>FTE</th>\n",
       "      <th>Accred</th>\n",
       "      <th>FoI</th>\n",
       "      <th>CostsR</th>\n",
       "      <th>BudgetA</th>\n",
       "      <th>BudgetR</th>\n",
       "      <th>Meetings</th>\n",
       "    </tr>\n",
       "  </thead>\n",
       "  <tbody>\n",
       "    <tr>\n",
       "      <th>0</th>\n",
       "      <td>0</td>\n",
       "      <td>63623305522-13</td>\n",
       "      <td>18/03/2011</td>\n",
       "      <td>II - In-house lobbyists and trade/business/pro...</td>\n",
       "      <td>Other organisations</td>\n",
       "      <td>European Committee for Standardization (CEN)</td>\n",
       "      <td>Belgium</td>\n",
       "      <td>7</td>\n",
       "      <td>1.75</td>\n",
       "      <td>2.0</td>\n",
       "      <td>Economy, finance and the euro, Culture and med...</td>\n",
       "      <td>100000-199999</td>\n",
       "      <td>0.0</td>\n",
       "      <td>NaN</td>\n",
       "      <td>4.0</td>\n",
       "    </tr>\n",
       "    <tr>\n",
       "      <th>1</th>\n",
       "      <td>1</td>\n",
       "      <td>688778525016-35</td>\n",
       "      <td>12/12/2016</td>\n",
       "      <td>II - In-house lobbyists and trade/business/pro...</td>\n",
       "      <td>Other organisations</td>\n",
       "      <td>COMPAGNIA DELLE OPERE (CDO)</td>\n",
       "      <td>Italy</td>\n",
       "      <td>6</td>\n",
       "      <td>1.75</td>\n",
       "      <td>NaN</td>\n",
       "      <td>Institutional affairs, Economy, finance and th...</td>\n",
       "      <td>25000-49999</td>\n",
       "      <td>0.0</td>\n",
       "      <td>NaN</td>\n",
       "      <td>0.0</td>\n",
       "    </tr>\n",
       "    <tr>\n",
       "      <th>2</th>\n",
       "      <td>2</td>\n",
       "      <td>840527028525-56</td>\n",
       "      <td>03/10/2017</td>\n",
       "      <td>III - Non-governmental organisations</td>\n",
       "      <td>Non-governmental organisations, platforms and ...</td>\n",
       "      <td>European Eye Bank Association (EEBA)</td>\n",
       "      <td>Italy</td>\n",
       "      <td>1</td>\n",
       "      <td>0.25</td>\n",
       "      <td>NaN</td>\n",
       "      <td>Research and innovation, Public Health</td>\n",
       "      <td>0-9999</td>\n",
       "      <td>74110.0</td>\n",
       "      <td>NaN</td>\n",
       "      <td>0.0</td>\n",
       "    </tr>\n",
       "    <tr>\n",
       "      <th>3</th>\n",
       "      <td>3</td>\n",
       "      <td>669155613656-43</td>\n",
       "      <td>20/05/2014</td>\n",
       "      <td>II - In-house lobbyists and trade/business/pro...</td>\n",
       "      <td>Trade unions and professional associations</td>\n",
       "      <td>Tehy ry (Tehy)</td>\n",
       "      <td>Finland</td>\n",
       "      <td>11</td>\n",
       "      <td>3.25</td>\n",
       "      <td>NaN</td>\n",
       "      <td>Institutional affairs, Economy, finance and th...</td>\n",
       "      <td>25000-49999</td>\n",
       "      <td>0.0</td>\n",
       "      <td>NaN</td>\n",
       "      <td>0.0</td>\n",
       "    </tr>\n",
       "    <tr>\n",
       "      <th>4</th>\n",
       "      <td>4</td>\n",
       "      <td>362966128835-32</td>\n",
       "      <td>02/11/2017</td>\n",
       "      <td>II - In-house lobbyists and trade/business/pro...</td>\n",
       "      <td>Companies &amp; groups</td>\n",
       "      <td>EcoSynergy System Ltd.</td>\n",
       "      <td>Slovenia</td>\n",
       "      <td>2</td>\n",
       "      <td>1.00</td>\n",
       "      <td>NaN</td>\n",
       "      <td>Agriculture and Rural Development, Humanitaria...</td>\n",
       "      <td>10000-24999</td>\n",
       "      <td>0.0</td>\n",
       "      <td>NaN</td>\n",
       "      <td>1.0</td>\n",
       "    </tr>\n",
       "  </tbody>\n",
       "</table>\n",
       "</div>"
      ],
      "text/plain": [
       "   n               Id     RegDate  \\\n",
       "0  0   63623305522-13  18/03/2011   \n",
       "1  1  688778525016-35  12/12/2016   \n",
       "2  2  840527028525-56  03/10/2017   \n",
       "3  3  669155613656-43  20/05/2014   \n",
       "4  4  362966128835-32  02/11/2017   \n",
       "\n",
       "                                                 Cat  \\\n",
       "0  II - In-house lobbyists and trade/business/pro...   \n",
       "1  II - In-house lobbyists and trade/business/pro...   \n",
       "2               III - Non-governmental organisations   \n",
       "3  II - In-house lobbyists and trade/business/pro...   \n",
       "4  II - In-house lobbyists and trade/business/pro...   \n",
       "\n",
       "                                                Cat2  \\\n",
       "0                                Other organisations   \n",
       "1                                Other organisations   \n",
       "2  Non-governmental organisations, platforms and ...   \n",
       "3         Trade unions and professional associations   \n",
       "4                                 Companies & groups   \n",
       "\n",
       "                                           Name   Country  People   FTE  \\\n",
       "0  European Committee for Standardization (CEN)   Belgium       7  1.75   \n",
       "1                   COMPAGNIA DELLE OPERE (CDO)     Italy       6  1.75   \n",
       "2          European Eye Bank Association (EEBA)     Italy       1  0.25   \n",
       "3                                Tehy ry (Tehy)   Finland      11  3.25   \n",
       "4                        EcoSynergy System Ltd.  Slovenia       2  1.00   \n",
       "\n",
       "   Accred                                                FoI         CostsR  \\\n",
       "0     2.0  Economy, finance and the euro, Culture and med...  100000-199999   \n",
       "1     NaN  Institutional affairs, Economy, finance and th...    25000-49999   \n",
       "2     NaN             Research and innovation, Public Health         0-9999   \n",
       "3     NaN  Institutional affairs, Economy, finance and th...    25000-49999   \n",
       "4     NaN  Agriculture and Rural Development, Humanitaria...    10000-24999   \n",
       "\n",
       "   BudgetA BudgetR  Meetings  \n",
       "0      0.0     NaN       4.0  \n",
       "1      0.0     NaN       0.0  \n",
       "2  74110.0     NaN       0.0  \n",
       "3      0.0     NaN       0.0  \n",
       "4      0.0     NaN       1.0  "
      ]
     },
     "execution_count": 7,
     "metadata": {},
     "output_type": "execute_result"
    }
   ],
   "source": [
    "eu_orgs = pd.read_csv(PATH + 'eulobby_orgs.csv')\n",
    "eu_orgs.head()"
   ]
  },
  {
   "cell_type": "code",
   "execution_count": 8,
   "metadata": {},
   "outputs": [
    {
     "data": {
      "text/html": [
       "<div>\n",
       "<style scoped>\n",
       "    .dataframe tbody tr th:only-of-type {\n",
       "        vertical-align: middle;\n",
       "    }\n",
       "\n",
       "    .dataframe tbody tr th {\n",
       "        vertical-align: top;\n",
       "    }\n",
       "\n",
       "    .dataframe thead th {\n",
       "        text-align: right;\n",
       "    }\n",
       "</style>\n",
       "<table border=\"1\" class=\"dataframe\">\n",
       "  <thead>\n",
       "    <tr style=\"text-align: right;\">\n",
       "      <th></th>\n",
       "      <th>Nr</th>\n",
       "      <th>Host</th>\n",
       "      <th>P</th>\n",
       "      <th>Date</th>\n",
       "      <th>Loc</th>\n",
       "      <th>Sub</th>\n",
       "      <th>Id</th>\n",
       "      <th>Org</th>\n",
       "      <th>Cat</th>\n",
       "      <th>Cat2</th>\n",
       "    </tr>\n",
       "  </thead>\n",
       "  <tbody>\n",
       "    <tr>\n",
       "      <th>0</th>\n",
       "      <td>1</td>\n",
       "      <td>Helena Braun, Cabinet member of Frans Timmermans</td>\n",
       "      <td>Better Regulation, Interinstitutional Relation...</td>\n",
       "      <td>11/07/2018</td>\n",
       "      <td>Brussels, BERL</td>\n",
       "      <td>discussion on Single Use Plastics proposal</td>\n",
       "      <td>0001976677-12</td>\n",
       "      <td>The European Organization for Packaging and th...</td>\n",
       "      <td>II - In-house lobbyists and trade/business/pro...</td>\n",
       "      <td>Trade and business associations</td>\n",
       "    </tr>\n",
       "    <tr>\n",
       "      <th>1</th>\n",
       "      <td>2</td>\n",
       "      <td>Helena Braun, Cabinet member of Frans Timmermans</td>\n",
       "      <td>Better Regulation, Interinstitutional Relation...</td>\n",
       "      <td>07/03/2018</td>\n",
       "      <td>Brussels, BERL</td>\n",
       "      <td>discussion on the implementation of the Plasti...</td>\n",
       "      <td>0001976677-12</td>\n",
       "      <td>The European Organization for Packaging and th...</td>\n",
       "      <td>II - In-house lobbyists and trade/business/pro...</td>\n",
       "      <td>Trade and business associations</td>\n",
       "    </tr>\n",
       "    <tr>\n",
       "      <th>2</th>\n",
       "      <td>3</td>\n",
       "      <td>Aurore Maillet, Cabinet member of Karmenu Vella</td>\n",
       "      <td>Environment, Maritime Affairs and Fisheries</td>\n",
       "      <td>08/11/2017</td>\n",
       "      <td>Brussels</td>\n",
       "      <td>Circular Economy</td>\n",
       "      <td>0001976677-12</td>\n",
       "      <td>The European Organization for Packaging and th...</td>\n",
       "      <td>II - In-house lobbyists and trade/business/pro...</td>\n",
       "      <td>Trade and business associations</td>\n",
       "    </tr>\n",
       "    <tr>\n",
       "      <th>3</th>\n",
       "      <td>4</td>\n",
       "      <td>Aurore Maillet, Cabinet member of Karmenu Vella</td>\n",
       "      <td>Environment, Maritime Affairs and Fisheries</td>\n",
       "      <td>02/05/2017</td>\n",
       "      <td>Brussels</td>\n",
       "      <td>packaging and packaging waste</td>\n",
       "      <td>0001976677-12</td>\n",
       "      <td>The European Organization for Packaging and th...</td>\n",
       "      <td>II - In-house lobbyists and trade/business/pro...</td>\n",
       "      <td>Trade and business associations</td>\n",
       "    </tr>\n",
       "    <tr>\n",
       "      <th>4</th>\n",
       "      <td>5</td>\n",
       "      <td>Aurore Maillet, Cabinet member of Karmenu Vella</td>\n",
       "      <td>Environment, Maritime Affairs and Fisheries</td>\n",
       "      <td>02/05/2017</td>\n",
       "      <td>Brussels</td>\n",
       "      <td>packaging and packaging waste</td>\n",
       "      <td>0001976677-12</td>\n",
       "      <td>The European Organization for Packaging and th...</td>\n",
       "      <td>II - In-house lobbyists and trade/business/pro...</td>\n",
       "      <td>Trade and business associations</td>\n",
       "    </tr>\n",
       "  </tbody>\n",
       "</table>\n",
       "</div>"
      ],
      "text/plain": [
       "   Nr                                              Host  \\\n",
       "0   1  Helena Braun, Cabinet member of Frans Timmermans   \n",
       "1   2  Helena Braun, Cabinet member of Frans Timmermans   \n",
       "2   3   Aurore Maillet, Cabinet member of Karmenu Vella   \n",
       "3   4   Aurore Maillet, Cabinet member of Karmenu Vella   \n",
       "4   5   Aurore Maillet, Cabinet member of Karmenu Vella   \n",
       "\n",
       "                                                   P        Date  \\\n",
       "0  Better Regulation, Interinstitutional Relation...  11/07/2018   \n",
       "1  Better Regulation, Interinstitutional Relation...  07/03/2018   \n",
       "2        Environment, Maritime Affairs and Fisheries  08/11/2017   \n",
       "3        Environment, Maritime Affairs and Fisheries  02/05/2017   \n",
       "4        Environment, Maritime Affairs and Fisheries  02/05/2017   \n",
       "\n",
       "              Loc                                                Sub  \\\n",
       "0  Brussels, BERL         discussion on Single Use Plastics proposal   \n",
       "1  Brussels, BERL  discussion on the implementation of the Plasti...   \n",
       "2        Brussels                                   Circular Economy   \n",
       "3        Brussels                      packaging and packaging waste   \n",
       "4        Brussels                      packaging and packaging waste   \n",
       "\n",
       "              Id                                                Org  \\\n",
       "0  0001976677-12  The European Organization for Packaging and th...   \n",
       "1  0001976677-12  The European Organization for Packaging and th...   \n",
       "2  0001976677-12  The European Organization for Packaging and th...   \n",
       "3  0001976677-12  The European Organization for Packaging and th...   \n",
       "4  0001976677-12  The European Organization for Packaging and th...   \n",
       "\n",
       "                                                 Cat  \\\n",
       "0  II - In-house lobbyists and trade/business/pro...   \n",
       "1  II - In-house lobbyists and trade/business/pro...   \n",
       "2  II - In-house lobbyists and trade/business/pro...   \n",
       "3  II - In-house lobbyists and trade/business/pro...   \n",
       "4  II - In-house lobbyists and trade/business/pro...   \n",
       "\n",
       "                              Cat2  \n",
       "0  Trade and business associations  \n",
       "1  Trade and business associations  \n",
       "2  Trade and business associations  \n",
       "3  Trade and business associations  \n",
       "4  Trade and business associations  "
      ]
     },
     "execution_count": 8,
     "metadata": {},
     "output_type": "execute_result"
    }
   ],
   "source": [
    "eu_meetings_com = pd.read_csv(PATH + 'eulobby_meetings_commission.csv')\n",
    "eu_meetings_com.head()"
   ]
  },
  {
   "cell_type": "code",
   "execution_count": 9,
   "metadata": {
    "collapsed": true
   },
   "outputs": [
    {
     "name": "stderr",
     "output_type": "stream",
     "text": [
      "/home/dim/Environments/corona/lib/python3.6/site-packages/ipykernel_launcher.py:3: SettingWithCopyWarning: \n",
      "A value is trying to be set on a copy of a slice from a DataFrame.\n",
      "Try using .loc[row_indexer,col_indexer] = value instead\n",
      "\n",
      "See the caveats in the documentation: https://pandas.pydata.org/pandas-docs/stable/user_guide/indexing.html#returning-a-view-versus-a-copy\n",
      "  This is separate from the ipykernel package so we can avoid doing imports until\n"
     ]
    }
   ],
   "source": [
    "eu_meetings_com['Date'] = pd.to_datetime(eu_meetings_com['Date'], errors='coerce')\n",
    "com = eu_meetings_com[eu_meetings_com['Date'].notna()]\n",
    "com['Year'] = com['Date'].dt.year"
   ]
  },
  {
   "cell_type": "code",
   "execution_count": 20,
   "metadata": {},
   "outputs": [
    {
     "data": {
      "text/plain": [
       "30018"
      ]
     },
     "execution_count": 20,
     "metadata": {},
     "output_type": "execute_result"
    }
   ],
   "source": [
    "len(eu_meetings_com)"
   ]
  },
  {
   "cell_type": "code",
   "execution_count": 22,
   "metadata": {},
   "outputs": [],
   "source": [
    "com.to_csv(PATH + 'commission_meetings_for_lf.csv')"
   ]
  },
  {
   "cell_type": "code",
   "execution_count": 10,
   "metadata": {},
   "outputs": [],
   "source": [
    "bigtech = com[com['Org'].str.contains(r'Google|Amazon|Apple|Facebook|Microsoft|Digitaleu', case=False)]"
   ]
  },
  {
   "cell_type": "code",
   "execution_count": 11,
   "metadata": {},
   "outputs": [
    {
     "data": {
      "text/plain": [
       "806"
      ]
     },
     "execution_count": 11,
     "metadata": {},
     "output_type": "execute_result"
    }
   ],
   "source": [
    "len(bigtech)"
   ]
  },
  {
   "cell_type": "code",
   "execution_count": 13,
   "metadata": {},
   "outputs": [
    {
     "data": {
      "text/plain": [
       "Google                             248\n",
       "DIGITALEUROPE (DE)                 145\n",
       "Microsoft Corporation              143\n",
       "Facebook Ireland Limited (FB-I)    139\n",
       "Amazon Europe Core SARL             72\n",
       "Apple Inc.                          59\n",
       "Name: Org, dtype: int64"
      ]
     },
     "execution_count": 13,
     "metadata": {},
     "output_type": "execute_result"
    }
   ],
   "source": [
    "bigtech.Org.value_counts()"
   ]
  },
  {
   "cell_type": "code",
   "execution_count": 14,
   "metadata": {},
   "outputs": [
    {
     "data": {
      "text/plain": [
       "Shell Companies (Shell)                                                  76\n",
       "BP p.l.c. (BP)                                                           37\n",
       "ExxonMobil Petroleum & Chemical (EMPC)                                   33\n",
       "International Association of Oil & Gas Producers Europe (IOGP Europe)    31\n",
       "TOTAL S.E.                                                               28\n",
       "Chevron Belgium BVBA (Chevron)                                            4\n",
       "Total Direct Energie                                                      2\n",
       "Name: Org, dtype: int64"
      ]
     },
     "execution_count": 14,
     "metadata": {},
     "output_type": "execute_result"
    }
   ],
   "source": [
    "bigoil = com[com['Org'].str.contains(r'exxo|shell|total |bp p.|chevron|iogp', case=False)]\n",
    "bigoil.Org.value_counts()"
   ]
  },
  {
   "cell_type": "code",
   "execution_count": 36,
   "metadata": {},
   "outputs": [
    {
     "data": {
      "text/plain": [
       "European Federation of Pharmaceutical Industries and Associations (EFPIA)    83\n",
       "Novartis International AG                                                    23\n",
       "MSD (Europe), Inc. (Merck Sharp & Dohme) (MSD)                               13\n",
       "GlaxoSmithKline (GSK)                                                        10\n",
       "Pfizer Inc. (PFE)                                                             7\n",
       "Merck                                                                         4\n",
       "F. Hoffmann-La Roche Ltd (Roche)                                              1\n",
       "Name: Org, dtype: int64"
      ]
     },
     "execution_count": 36,
     "metadata": {},
     "output_type": "execute_result"
    }
   ],
   "source": [
    "bigpharma = com[com['Org'].str.contains(r'pfizer|roche|novartis|merck|glaxo|efpia', case=False)]\n",
    "bigpharma.Org.value_counts()"
   ]
  },
  {
   "cell_type": "code",
   "execution_count": 16,
   "metadata": {},
   "outputs": [],
   "source": [
    "bigfinance = com[com['Org'].str.contains(r'', case=False)]"
   ]
  },
  {
   "cell_type": "code",
   "execution_count": 17,
   "metadata": {},
   "outputs": [],
   "source": [
    "mep = pd.read_json('/home/dim/eu_lobby_mepmeetings.json')"
   ]
  },
  {
   "cell_type": "code",
   "execution_count": 18,
   "metadata": {},
   "outputs": [
    {
     "data": {
      "text/html": [
       "<div>\n",
       "<style scoped>\n",
       "    .dataframe tbody tr th:only-of-type {\n",
       "        vertical-align: middle;\n",
       "    }\n",
       "\n",
       "    .dataframe tbody tr th {\n",
       "        vertical-align: top;\n",
       "    }\n",
       "\n",
       "    .dataframe thead th {\n",
       "        text-align: right;\n",
       "    }\n",
       "</style>\n",
       "<table border=\"1\" class=\"dataframe\">\n",
       "  <thead>\n",
       "    <tr style=\"text-align: right;\">\n",
       "      <th></th>\n",
       "      <th>committees</th>\n",
       "      <th>country</th>\n",
       "      <th>date</th>\n",
       "      <th>dossier</th>\n",
       "      <th>epid</th>\n",
       "      <th>group</th>\n",
       "      <th>lobbyists</th>\n",
       "      <th>location</th>\n",
       "      <th>mep</th>\n",
       "      <th>role</th>\n",
       "      <th>title</th>\n",
       "      <th>year</th>\n",
       "    </tr>\n",
       "  </thead>\n",
       "  <tbody>\n",
       "    <tr>\n",
       "      <th>0</th>\n",
       "      <td>[IMCO]</td>\n",
       "      <td>Malta</td>\n",
       "      <td>2020-11-17</td>\n",
       "      <td>DSA report</td>\n",
       "      <td>197403</td>\n",
       "      <td>S&amp;D</td>\n",
       "      <td>GSMA</td>\n",
       "      <td>Online meeting</td>\n",
       "      <td>Alex AGIUS SALIBA</td>\n",
       "      <td>Rapporteur</td>\n",
       "      <td>DSA</td>\n",
       "      <td>2020</td>\n",
       "    </tr>\n",
       "    <tr>\n",
       "      <th>1</th>\n",
       "      <td>[IMCO]</td>\n",
       "      <td>Malta</td>\n",
       "      <td>2020-11-17</td>\n",
       "      <td>DSA report</td>\n",
       "      <td>197403</td>\n",
       "      <td>S&amp;D</td>\n",
       "      <td>Uber global Data Protection officer &amp; EU40</td>\n",
       "      <td>Online meeting</td>\n",
       "      <td>Alex AGIUS SALIBA</td>\n",
       "      <td>Rapporteur</td>\n",
       "      <td>DSA</td>\n",
       "      <td>2020</td>\n",
       "    </tr>\n",
       "    <tr>\n",
       "      <th>2</th>\n",
       "      <td>[IMCO]</td>\n",
       "      <td>Malta</td>\n",
       "      <td>2020-11-16</td>\n",
       "      <td>DSA report</td>\n",
       "      <td>197403</td>\n",
       "      <td>S&amp;D</td>\n",
       "      <td>Ebay</td>\n",
       "      <td>Online meeting</td>\n",
       "      <td>Alex AGIUS SALIBA</td>\n",
       "      <td>Rapporteur</td>\n",
       "      <td>DSA</td>\n",
       "      <td>2020</td>\n",
       "    </tr>\n",
       "    <tr>\n",
       "      <th>3</th>\n",
       "      <td>[IMCO]</td>\n",
       "      <td>Malta</td>\n",
       "      <td>2020-11-16</td>\n",
       "      <td>DSA report</td>\n",
       "      <td>197403</td>\n",
       "      <td>S&amp;D</td>\n",
       "      <td>TikTok</td>\n",
       "      <td>Online meeting</td>\n",
       "      <td>Alex AGIUS SALIBA</td>\n",
       "      <td>Rapporteur</td>\n",
       "      <td>DSA</td>\n",
       "      <td>2020</td>\n",
       "    </tr>\n",
       "    <tr>\n",
       "      <th>4</th>\n",
       "      <td>[IMCO]</td>\n",
       "      <td>Malta</td>\n",
       "      <td>2020-11-13</td>\n",
       "      <td>DSA report</td>\n",
       "      <td>197403</td>\n",
       "      <td>S&amp;D</td>\n",
       "      <td>BBVA</td>\n",
       "      <td>Online meeting</td>\n",
       "      <td>Alex AGIUS SALIBA</td>\n",
       "      <td>Rapporteur</td>\n",
       "      <td>DIgital Competition</td>\n",
       "      <td>2020</td>\n",
       "    </tr>\n",
       "  </tbody>\n",
       "</table>\n",
       "</div>"
      ],
      "text/plain": [
       "  committees country       date     dossier    epid group  \\\n",
       "0     [IMCO]   Malta 2020-11-17  DSA report  197403   S&D   \n",
       "1     [IMCO]   Malta 2020-11-17  DSA report  197403   S&D   \n",
       "2     [IMCO]   Malta 2020-11-16  DSA report  197403   S&D   \n",
       "3     [IMCO]   Malta 2020-11-16  DSA report  197403   S&D   \n",
       "4     [IMCO]   Malta 2020-11-13  DSA report  197403   S&D   \n",
       "\n",
       "                                    lobbyists        location  \\\n",
       "0                                        GSMA  Online meeting   \n",
       "1  Uber global Data Protection officer & EU40  Online meeting   \n",
       "2                                        Ebay  Online meeting   \n",
       "3                                      TikTok  Online meeting   \n",
       "4                                        BBVA  Online meeting   \n",
       "\n",
       "                 mep        role                title  year  \n",
       "0  Alex AGIUS SALIBA  Rapporteur                  DSA  2020  \n",
       "1  Alex AGIUS SALIBA  Rapporteur                  DSA  2020  \n",
       "2  Alex AGIUS SALIBA  Rapporteur                  DSA  2020  \n",
       "3  Alex AGIUS SALIBA  Rapporteur                  DSA  2020  \n",
       "4  Alex AGIUS SALIBA  Rapporteur  DIgital Competition  2020  "
      ]
     },
     "execution_count": 18,
     "metadata": {},
     "output_type": "execute_result"
    }
   ],
   "source": [
    "mep['date'] = pd.to_datetime(mep['date'], errors='coerce')\n",
    "mep['year'] = mep['date'].dt.year\n",
    "mep.head()\n"
   ]
  },
  {
   "cell_type": "code",
   "execution_count": 23,
   "metadata": {},
   "outputs": [
    {
     "data": {
      "text/plain": [
       "12825"
      ]
     },
     "execution_count": 23,
     "metadata": {},
     "output_type": "execute_result"
    }
   ],
   "source": [
    "len(mep)"
   ]
  },
  {
   "cell_type": "code",
   "execution_count": 24,
   "metadata": {},
   "outputs": [],
   "source": [
    "mep.to_csv(PATH + 'mep_meetings_for_lf.csv')"
   ]
  },
  {
   "cell_type": "code",
   "execution_count": 34,
   "metadata": {},
   "outputs": [],
   "source": [
    "m_bigtech = mep[mep['lobbyists'].str.contains(r'Goog|Apple|Microsoft|Facebook|Amazon', case=False)]"
   ]
  },
  {
   "cell_type": "code",
   "execution_count": 35,
   "metadata": {},
   "outputs": [
    {
     "data": {
      "text/plain": [
       "149"
      ]
     },
     "execution_count": 35,
     "metadata": {},
     "output_type": "execute_result"
    }
   ],
   "source": [
    "len(m_bigtech)"
   ]
  },
  {
   "cell_type": "code",
   "execution_count": 41,
   "metadata": {},
   "outputs": [
    {
     "data": {
      "text/plain": [
       "Shell                                                                       6\n",
       "Director Shell Netherlands, Senior EU Affairs Manager Shell                 1\n",
       "Ben van Beurden, PDG Shell                                                  1\n",
       "Shell (05032108616-26)                                                      1\n",
       "Royal Dutch Shell (Senior EU Affairs Manager)                               1\n",
       "Royal Dutch Shell (Senior EU Affairs Manager and Head of Liaison Office)    1\n",
       "Shell Energy Europe, 05032108616-26, Vice President                         1\n",
       "SHELL, Helen Bray, Ivan Martin                                              1\n",
       "Name: lobbyists, dtype: int64"
      ]
     },
     "execution_count": 41,
     "metadata": {},
     "output_type": "execute_result"
    }
   ],
   "source": [
    "m_bigoil = mep[mep['lobbyists'].str.contains(r'shell', case=False)]\n",
    "m_bigoil.lobbyists.value_counts()"
   ]
  },
  {
   "cell_type": "code",
   "execution_count": 31,
   "metadata": {},
   "outputs": [
    {
     "data": {
      "text/plain": [
       "Facebook                                                      33\n",
       "Google                                                        28\n",
       "Microsoft                                                     14\n",
       "Apple                                                          8\n",
       "Amazon                                                         8\n",
       "                                                              ..\n",
       "Microsoft, Edri, Point de contact                              1\n",
       "FACEBOOK                                                       1\n",
       "Amazon / James Waterworth                                      1\n",
       "Microsoft, Sidley Austin LLP                                   1\n",
       "Google Head of Global Government Affairs and Public Policy     1\n",
       "Name: lobbyists, Length: 65, dtype: int64"
      ]
     },
     "execution_count": 31,
     "metadata": {},
     "output_type": "execute_result"
    }
   ],
   "source": [
    "m_bigtech.lobbyists.value_counts()"
   ]
  },
  {
   "cell_type": "code",
   "execution_count": 32,
   "metadata": {},
   "outputs": [
    {
     "data": {
      "text/plain": [
       "BEUC                                                           35\n",
       "Facebook                                                       33\n",
       "ETUC                                                           31\n",
       "Transatlantic Policy Network                                   31\n",
       "Google                                                         28\n",
       "                                                               ..\n",
       "Blockchain for Europe                                           1\n",
       "Finnish Energy - Energiateollisuus ry (ET) (68861821910-84)     1\n",
       "Global Coalition on Aging                                       1\n",
       "Notis Mitarakis, Minister of Migration & Asylum                 1\n",
       "Comisaria Designada                                             1\n",
       "Name: lobbyists, Length: 9876, dtype: int64"
      ]
     },
     "execution_count": 32,
     "metadata": {},
     "output_type": "execute_result"
    }
   ],
   "source": [
    "mep.lobbyists.value_counts()"
   ]
  },
  {
   "cell_type": "code",
   "execution_count": 37,
   "metadata": {},
   "outputs": [
    {
     "data": {
      "text/plain": [
       "European Federation of Pharmaceutical Industries and Associations (EFPIA)                                                                                                                                                                                                                                                                                                                                                                                                                                                                                                                                                                                                                                                                                                                                                                                                                                             5\n",
       "Novartis                                                                                                                                                                                                                                                                                                                                                                                                                                                                                                                                                                                                                                                                                                                                                                                                                                                                                                              5\n",
       "EFPIA                                                                                                                                                                                                                                                                                                                                                                                                                                                                                                                                                                                                                                                                                                                                                                                                                                                                                                                 4\n",
       "Executive Director Public Affairs EFPIA                                                                                                                                                                                                                                                                                                                                                                                                                                                                                                                                                                                                                                                                                                                                                                                                                                                                               1\n",
       "European Cancer Patient Coalition, Cancer Mission Board, Erueopean Academy of Cancer Sciences, German Cancer Research Center, Stockolm School of Economics, Nuclear Medicine Europe, EFPIA, European Association of Hospital Pharmacist                                                                                                                                                                                                                                                                                                                                                                                                                                                                                                                                                                                                                                                                               1\n",
       "European Public Health Alliance, EuroHealthNet Organization, GSK, Vaccines Europe, Association of European Cancer Leagues, Optimal Nutritional Care for All, European Nutrition for Health Alliance, Smoke Free Partnership, European Federation of Allergy and Airways Diseases Patients' Associations, Oral Health Foundation, Royal Society for Public Health, EU-Patient, Mental Health Europe, European Chronic Diseases Alliance, European Association of Urology, European Alcohol Policy Alliance, European Federation of Pharmaceuticals Industries Associations, Novartis, European Association for the Study of Obesity, Myeloma Euronet Romania, European Federation of Neurological Associations, Oncology Nurses, European Cancer Patient Coalition, International Federation of Antrhoposophic Medical Associations, Alzheimer Europe, Medicines for Europe, Pharmaceutical Group of European Union    1\n",
       "Merck, Sharp and Dhome (MSD)                                                                                                                                                                                                                                                                                                                                                                                                                                                                                                                                                                                                                                                                                                                                                                                                                                                                                          1\n",
       "Merck KGaA                                                                                                                                                                                                                                                                                                                                                                                                                                                                                                                                                                                                                                                                                                                                                                                                                                                                                                            1\n",
       "Novartis, Sandoz                                                                                                                                                                                                                                                                                                                                                                                                                                                                                                                                                                                                                                                                                                                                                                                                                                                                                                      1\n",
       "F. Hoffman La Roche - Head of Pharma International                                                                                                                                                                                                                                                                                                                                                                                                                                                                                                                                                                                                                                                                                                                                                                                                                                                                    1\n",
       "Novartis, 91269481588-28                                                                                                                                                                                                                                                                                                                                                                                                                                                                                                                                                                                                                                                                                                                                                                                                                                                                                              1\n",
       "Novartis Pharma NV 0459.093.476                                                                                                                                                                                                                                                                                                                                                                                                                                                                                                                                                                                                                                                                                                                                                                                                                                                                                       1\n",
       "European Cancer Leagues, DG Sante (European Commission), Roche, Danish Cancer Society, International association of mutual benefit societies (AIM), Eurordis (rare diseases Europe), World Health Organisation                                                                                                                                                                                                                                                                                                                                                                                                                                                                                                                                                                                                                                                                                                        1\n",
       "Novartis International                                                                                                                                                                                                                                                                                                                                                                                                                                                                                                                                                                                                                                                                                                                                                                                                                                                                                                1\n",
       "Vaccines Europe (VE), European Federation of Pharmaceutical Industries and Associations (EFPIA)                                                                                                                                                                                                                                                                                                                                                                                                                                                                                                                                                                                                                                                                                                                                                                                                                       1\n",
       "EFPIA - European Federation of Pharmaceutical Industries and Associations                                                                                                                                                                                                                                                                                                                                                                                                                                                                                                                                                                                                                                                                                                                                                                                                                                             1\n",
       "EFPIA - the European Federation of Pharmaceutical Industries and Associations                                                                                                                                                                                                                                                                                                                                                                                                                                                                                                                                                                                                                                                                                                                                                                                                                                         1\n",
       "ECPC, Association of European Cancer Leagues, Eurohealthnet, Eurordis RareDisease Europe, Transforming Breast Cancer Together, Teva Pharm, Novartis, COCIR Advancing Healthcare, GSK, Medicines for Europe, European Public Health Alliance, Health Policy Partnership, Oxford Health System Reform Group, European Federation of Neurological Associations, MedTech Europe, Health First Europe, European Heart Network, LEO Pharma A/S, University Hospitals of the KULeuven, EUREGHA, European Federation of Nurses Association, European Association of Urology, EUCOPE, EuropaBio, German Pharmaceutical Industry Association, Abbot, Boehringer, European Hospital and Healthcare Employers Association, MSD                                                                                                                                                                                                    1\n",
       "European Federation of Pharmaceutical Industries and Associations (EFPIA), Vaccines Europe (VE), Elizabeth Kuiper (EFPIA), Mihai Rotaru (EFPIA), Anna Swierczyna (VE), Magdalena de Azero (VE), Sara Jakupovic (Acumen)                                                                                                                                                                                                                                                                                                                                                                                                                                                                                                                                                                                                                                                                                               1\n",
       "EuroChem                                                                                                                                                                                                                                                                                                                                                                                                                                                                                                                                                                                                                                                                                                                                                                                                                                                                                                              1\n",
       "Merck                                                                                                                                                                                                                                                                                                                                                                                                                                                                                                                                                                                                                                                                                                                                                                                                                                                                                                                 1\n",
       "spaceEU project (in attendance: Pedro Russo, Assistant professor of Astronomy & Society and spaceEU project lead at Leiden University, the Netherlands / Joseph Roche, Assistant Professor in Science Education at Trinity College Dublin, Ireland /Michelle Willebrands, Astronomy for Development Project Manager at Leiden University, the Netherlands                                                                                                                                                                                                                                                                                                                                                                                                                                                                                                                                                             1\n",
       "European Federation of Pharmaceutical Industries and Associations (EFPIA), 38526121292-88                                                                                                                                                                                                                                                                                                                                                                                                                                                                                                                                                                                                                                                                                                                                                                                                                             1\n",
       "European Cancer Patient Coalition, Novartis                                                                                                                                                                                                                                                                                                                                                                                                                                                                                                                                                                                                                                                                                                                                                                                                                                                                           1\n",
       "European Cancer Organisation (ECCO), Eastern Europe Pfizer, National Institute of Public Health of Slovenia, Sklodowska-Curie Memorial Cancer Center and Institute of Oncology (Warsaw), Center For Oncology Faculty Of Medicine of the University Of Split                                                                                                                                                                                                                                                                                                                                                                                                                                                                                                                                                                                                                                                           1\n",
       "Name: lobbyists, dtype: int64"
      ]
     },
     "execution_count": 37,
     "metadata": {},
     "output_type": "execute_result"
    }
   ],
   "source": [
    "m_bigpharma = mep[mep['lobbyists'].str.contains(r'pfizer|roche|novartis|merck|glaxo|efpia', case=False)]\n",
    "m_bigpharma.lobbyists.value_counts()"
   ]
  },
  {
   "cell_type": "code",
   "execution_count": null,
   "metadata": {},
   "outputs": [],
   "source": []
  }
 ],
 "metadata": {
  "kernelspec": {
   "display_name": "corona",
   "language": "python",
   "name": "corona"
  },
  "language_info": {
   "codemirror_mode": {
    "name": "ipython",
    "version": 3
   },
   "file_extension": ".py",
   "mimetype": "text/x-python",
   "name": "python",
   "nbconvert_exporter": "python",
   "pygments_lexer": "ipython3",
   "version": "3.6.9"
  }
 },
 "nbformat": 4,
 "nbformat_minor": 2
}
